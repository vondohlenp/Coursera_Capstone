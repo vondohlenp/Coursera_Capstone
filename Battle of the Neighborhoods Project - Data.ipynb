{
 "cells": [
  {
   "cell_type": "markdown",
   "metadata": {},
   "source": [
    "# Relocating to Toronto "
   ]
  },
  {
   "cell_type": "markdown",
   "metadata": {},
   "source": [
    "### Data"
   ]
  },
  {
   "cell_type": "markdown",
   "metadata": {},
   "source": [
    "In order to find the neighborhoods which meet the family's needs and desires, we will use data from two sources:\n",
    "- City of Toronto Website (https://www.toronto.ca/) via their Open Data Portal (https://open.toronto.ca/)\n",
    "    - Neighborhood Boundary Data\n",
    "    - Neighborhood Profile Data\n",
    "- Foursquare (https://foursquare.com/) via the Foursquare API"
   ]
  },
  {
   "cell_type": "markdown",
   "metadata": {},
   "source": [
    "##### City of Toronto Open Data Portal"
   ]
  },
  {
   "cell_type": "markdown",
   "metadata": {},
   "source": [
    "The City of Toronto's Open Data Portal contains extensive information on the neighborhoods of Toronto.  For this analysis we will use the geospatial data providing boundary information of the 140 neighborhoods and the neighborhood profile data containing demographic and socio-economic data for each neighborhood."
   ]
  },
  {
   "cell_type": "markdown",
   "metadata": {},
   "source": [
    "###### ... Boundary Data"
   ]
  },
  {
   "cell_type": "markdown",
   "metadata": {},
   "source": [
    "The neighborhood boundary information (source: https://open.toronto.ca/dataset/neighbourhood-profiles/) is contained in the file *Neighbourhoods.csv* and provides the boundaries of each neighborhood in the form of geospatial coordinates of the vertices of the polygon which encloses the neighborhood.  Here is an example of the data provided for each neighborhood:"
   ]
  },
  {
   "cell_type": "code",
   "execution_count": 1,
   "metadata": {},
   "outputs": [
    {
     "data": {
      "text/html": [
       "<div>\n",
       "<style scoped>\n",
       "    .dataframe tbody tr th:only-of-type {\n",
       "        vertical-align: middle;\n",
       "    }\n",
       "\n",
       "    .dataframe tbody tr th {\n",
       "        vertical-align: top;\n",
       "    }\n",
       "\n",
       "    .dataframe thead th {\n",
       "        text-align: right;\n",
       "    }\n",
       "</style>\n",
       "<table border=\"1\" class=\"dataframe\">\n",
       "  <thead>\n",
       "    <tr style=\"text-align: right;\">\n",
       "      <th></th>\n",
       "      <th>AREA_NAME</th>\n",
       "      <th>geometry</th>\n",
       "    </tr>\n",
       "  </thead>\n",
       "  <tbody>\n",
       "    <tr>\n",
       "      <td>0</td>\n",
       "      <td>Casa Loma (96)</td>\n",
       "      <td>{u'type': u'Polygon', u'coordinates': (((-79.4...</td>\n",
       "    </tr>\n",
       "    <tr>\n",
       "      <td>1</td>\n",
       "      <td>Annex (95)</td>\n",
       "      <td>{u'type': u'Polygon', u'coordinates': (((-79.3...</td>\n",
       "    </tr>\n",
       "    <tr>\n",
       "      <td>2</td>\n",
       "      <td>Caledonia-Fairbank (109)</td>\n",
       "      <td>{u'type': u'Polygon', u'coordinates': (((-79.4...</td>\n",
       "    </tr>\n",
       "    <tr>\n",
       "      <td>3</td>\n",
       "      <td>Woodbine Corridor (64)</td>\n",
       "      <td>{u'type': u'Polygon', u'coordinates': (((-79.3...</td>\n",
       "    </tr>\n",
       "    <tr>\n",
       "      <td>4</td>\n",
       "      <td>Lawrence Park South (103)</td>\n",
       "      <td>{u'type': u'Polygon', u'coordinates': (((-79.4...</td>\n",
       "    </tr>\n",
       "    <tr>\n",
       "      <td>...</td>\n",
       "      <td>...</td>\n",
       "      <td>...</td>\n",
       "    </tr>\n",
       "    <tr>\n",
       "      <td>135</td>\n",
       "      <td>Dorset Park (126)</td>\n",
       "      <td>{u'type': u'Polygon', u'coordinates': (((-79.2...</td>\n",
       "    </tr>\n",
       "    <tr>\n",
       "      <td>136</td>\n",
       "      <td>Centennial Scarborough (133)</td>\n",
       "      <td>{u'type': u'Polygon', u'coordinates': (((-79.1...</td>\n",
       "    </tr>\n",
       "    <tr>\n",
       "      <td>137</td>\n",
       "      <td>Humbermede (22)</td>\n",
       "      <td>{u'type': u'Polygon', u'coordinates': (((-79.5...</td>\n",
       "    </tr>\n",
       "    <tr>\n",
       "      <td>138</td>\n",
       "      <td>Willowdale West (37)</td>\n",
       "      <td>{u'type': u'Polygon', u'coordinates': (((-79.4...</td>\n",
       "    </tr>\n",
       "    <tr>\n",
       "      <td>139</td>\n",
       "      <td>Willowdale East (51)</td>\n",
       "      <td>{u'type': u'Polygon', u'coordinates': (((-79.4...</td>\n",
       "    </tr>\n",
       "  </tbody>\n",
       "</table>\n",
       "<p>140 rows × 2 columns</p>\n",
       "</div>"
      ],
      "text/plain": [
       "                        AREA_NAME  \\\n",
       "0                  Casa Loma (96)   \n",
       "1                      Annex (95)   \n",
       "2        Caledonia-Fairbank (109)   \n",
       "3          Woodbine Corridor (64)   \n",
       "4       Lawrence Park South (103)   \n",
       "..                            ...   \n",
       "135             Dorset Park (126)   \n",
       "136  Centennial Scarborough (133)   \n",
       "137               Humbermede (22)   \n",
       "138          Willowdale West (37)   \n",
       "139          Willowdale East (51)   \n",
       "\n",
       "                                              geometry  \n",
       "0    {u'type': u'Polygon', u'coordinates': (((-79.4...  \n",
       "1    {u'type': u'Polygon', u'coordinates': (((-79.3...  \n",
       "2    {u'type': u'Polygon', u'coordinates': (((-79.4...  \n",
       "3    {u'type': u'Polygon', u'coordinates': (((-79.3...  \n",
       "4    {u'type': u'Polygon', u'coordinates': (((-79.4...  \n",
       "..                                                 ...  \n",
       "135  {u'type': u'Polygon', u'coordinates': (((-79.2...  \n",
       "136  {u'type': u'Polygon', u'coordinates': (((-79.1...  \n",
       "137  {u'type': u'Polygon', u'coordinates': (((-79.5...  \n",
       "138  {u'type': u'Polygon', u'coordinates': (((-79.4...  \n",
       "139  {u'type': u'Polygon', u'coordinates': (((-79.4...  \n",
       "\n",
       "[140 rows x 2 columns]"
      ]
     },
     "execution_count": 1,
     "metadata": {},
     "output_type": "execute_result"
    }
   ],
   "source": [
    "import pandas as pd\n",
    "nbhd_bound = pd.read_csv('Neighbourhoods.csv')  \n",
    "nbhd_bound[['AREA_NAME','geometry']]"
   ]
  },
  {
   "cell_type": "markdown",
   "metadata": {},
   "source": [
    "For each neighborhood (**AREA_NAME**), the coordinates of the vertices of the ploygon which enclose it are given (**geometry**).  A centroid of this polygona can be calculated and used as a center point of the neighborhood.  This data will be used in calls to the Foursquare API to get venue information for a given neighborhood."
   ]
  },
  {
   "cell_type": "markdown",
   "metadata": {},
   "source": [
    "##### ... Profile Data"
   ]
  },
  {
   "cell_type": "markdown",
   "metadata": {},
   "source": [
    "The neighborhood profile information (source: https://open.toronto.ca/dataset/neighbourhood-profiles/) is contained in the file *neighbourhood-profiles-2016-csv.csv* and provides a wealth of demographic, social and economic data about the residents of each neighborhood."
   ]
  },
  {
   "cell_type": "markdown",
   "metadata": {},
   "source": [
    "For example, we will access neighborhood data such as that indicated below:"
   ]
  },
  {
   "cell_type": "code",
   "execution_count": 2,
   "metadata": {},
   "outputs": [
    {
     "data": {
      "text/plain": [
       "['Neighbourhood Information',\n",
       " 'Families, households and marital status',\n",
       " 'Education',\n",
       " 'Housing']"
      ]
     },
     "execution_count": 2,
     "metadata": {},
     "output_type": "execute_result"
    }
   ],
   "source": [
    "nbhd_profile = pd.read_csv('neighbourhood-profiles-2016-csv.csv')\n",
    "list(nbhd_profile['Category'].unique()[[0,2,9,10]])"
   ]
  },
  {
   "cell_type": "markdown",
   "metadata": {},
   "source": [
    "This data will allow use to find neighborhoods with charaterstics (families with children, highly-educated, etc.) as requested by the family."
   ]
  },
  {
   "cell_type": "markdown",
   "metadata": {},
   "source": [
    "##### Foursquare"
   ]
  },
  {
   "cell_type": "markdown",
   "metadata": {},
   "source": [
    "Foursquare is a location-based search tool for exploring numerous types of \"venues\" in a prescibed geographical region.  These venues include businesses, recreational areas and schools, just to name a few.  We will be using data obtained from Foursquare via the Foursquare API. "
   ]
  },
  {
   "cell_type": "markdown",
   "metadata": {},
   "source": [
    "For example, a venue search might give a list of venues such as:"
   ]
  },
  {
   "cell_type": "markdown",
   "metadata": {},
   "source": [
    "<img src=\"FoursquareSamp.jpg\" align=\"left\" width=600>"
   ]
  },
  {
   "cell_type": "markdown",
   "metadata": {},
   "source": [
    "Thus, the mere existence of the particular number of venues of a certain category in a neighborhood can be determined.  This allows us to limit our choice of neighborhoods for the family based on whether or not a certain venue appears in a neghborhood and/or whether a certain type of venue is common in that neighborhood.  We can use that information to find clusters of neighborhoods with desirable characteristics and a metric for ranking them."
   ]
  },
  {
   "cell_type": "markdown",
   "metadata": {},
   "source": [
    "In our analysis, we will use this data to find neighborhoods with colleges or universities which contain parks (and similar outdoor recreational sites) as well as a variety of grocery stores, pizza places, Italian restaurants and confort-food restuarants as desired by the family.  We will also look to find neighborhoods in general proximity to sports stadiums as the family has indicated a secondary desire to be near such venues."
   ]
  }
 ],
 "metadata": {
  "kernelspec": {
   "display_name": "Python 3",
   "language": "python",
   "name": "python3"
  },
  "language_info": {
   "codemirror_mode": {
    "name": "ipython",
    "version": 3
   },
   "file_extension": ".py",
   "mimetype": "text/x-python",
   "name": "python",
   "nbconvert_exporter": "python",
   "pygments_lexer": "ipython3",
   "version": "3.7.4"
  }
 },
 "nbformat": 4,
 "nbformat_minor": 2
}
