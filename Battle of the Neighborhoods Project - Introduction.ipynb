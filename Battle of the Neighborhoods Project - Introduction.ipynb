{
 "cells": [
  {
   "cell_type": "markdown",
   "metadata": {},
   "source": [
    "# Relocating to Toronto"
   ]
  },
  {
   "cell_type": "markdown",
   "metadata": {},
   "source": [
    "### Introduction"
   ]
  },
  {
   "cell_type": "markdown",
   "metadata": {},
   "source": [
    "A family of four (man, woman and two children) is looking to relolcate to Toronto from the New York metropolitan area.  Toronto has been formally subdivided into 140 neighborhoods and the family is interested in finding a Toronto neighborhood which will fit their needs and preferences. The family requires a neighborhood comaprison analysis in order to choose the neighborhood which provides the most of their desired opportunities, charactersitics and amentities."
   ]
  },
  {
   "cell_type": "markdown",
   "metadata": {},
   "source": [
    "For reference, here is a map of Toronto, courtesy of the the Toronto city website https://www.toronto.ca/:"
   ]
  },
  {
   "attachments": {},
   "cell_type": "markdown",
   "metadata": {},
   "source": [
    "<img src=\"Toronto_map.jpg\" align=\"center\" width=800>"
   ]
  },
  {
   "cell_type": "markdown",
   "metadata": {},
   "source": [
    "Also, for reference, here is a map showing the division into 140 neighborhoods, also courtesy of the the Toronto city website https://www.toronto.ca/:"
   ]
  },
  {
   "attachments": {},
   "cell_type": "markdown",
   "metadata": {},
   "source": [
    "<img src=\"Toronto_nbhds.jpg\" align=\"center\" width=800>"
   ]
  },
  {
   "cell_type": "markdown",
   "metadata": {},
   "source": [
    "The family has indicated a number of preferences for their future home neighborhood.They have prioritzed being near a college or university as one of the parents will be seekeing employment in the field of higher education.  The family has also indicated that they are interested in living in a neighborhood with a relatively large number of families with younger children. Valuing education, they have a preference for a neighborhood in which a large number of the residents are at least college educated. In terms of nearby amenities, they would like to ensure that they are near grocery stores, pizza places, Italian restaurants and comfort-food restuarants.  As sports fans, they would also like to be near sports stadiums, if possible."
   ]
  },
  {
   "cell_type": "markdown",
   "metadata": {},
   "source": [
    "This analysis will serve to compare and contrast all the neighborhoods of Toronto, providing a short list of neighborhoods which fit the family's desired neighboorhood characteristics.  In doing so, the family will have the necessary information to make an informed decision about the choice of a neighborhood in Toronto."
   ]
  }
 ],
 "metadata": {
  "kernelspec": {
   "display_name": "Python 3",
   "language": "python",
   "name": "python3"
  },
  "language_info": {
   "codemirror_mode": {
    "name": "ipython",
    "version": 3
   },
   "file_extension": ".py",
   "mimetype": "text/x-python",
   "name": "python",
   "nbconvert_exporter": "python",
   "pygments_lexer": "ipython3",
   "version": "3.7.4"
  }
 },
 "nbformat": 4,
 "nbformat_minor": 2
}
